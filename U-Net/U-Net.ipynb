{
  "nbformat": 4,
  "nbformat_minor": 0,
  "metadata": {
    "colab": {
      "provenance": [],
      "gpuType": "T4"
    },
    "kernelspec": {
      "name": "python3",
      "display_name": "Python 3"
    },
    "language_info": {
      "name": "python"
    },
    "accelerator": "GPU"
  },
  "cells": [
    {
      "cell_type": "code",
      "execution_count": null,
      "metadata": {
        "id": "uUX8OZhUz3-z"
      },
      "outputs": [],
      "source": [
        "!pip install opendatasets --q\n",
        "import opendatasets as od\n",
        "od.download('https://www.kaggle.com/datasets/briscdataset/brisc2025')"
      ]
    },
    {
      "cell_type": "code",
      "source": [
        "import torch\n",
        "import torchvision\n",
        "import torch.functional as F\n",
        "\n",
        "import numpy as np\n",
        "import matplotlib.pyplot as plt\n",
        "\n",
        "from PIL import Image\n",
        "import os\n",
        "\n",
        "from tqdm.auto import tqdm\n",
        "\n",
        "from torch.utils.data import Dataset, DataLoader\n",
        "from torch import nn\n",
        "\"\"\"\n",
        "import albumentations as A\n",
        "from albumentations.pytorch import ToTensorV2\n",
        "import cv2\n",
        "\"\"\"\n",
        "import torchvision.transforms as TT"
      ],
      "metadata": {
        "id": "IhqvDXEf1KvM"
      },
      "execution_count": null,
      "outputs": []
    },
    {
      "cell_type": "code",
      "source": [
        "device = 'cuda' if torch.cuda.is_available() else 'cpu'"
      ],
      "metadata": {
        "id": "wbVaOpZ8f4oT"
      },
      "execution_count": null,
      "outputs": []
    },
    {
      "cell_type": "code",
      "source": [
        "torch.manual_seed(24)"
      ],
      "metadata": {
        "id": "9Oi93K9ygV46"
      },
      "execution_count": null,
      "outputs": []
    },
    {
      "cell_type": "code",
      "source": [
        "def dice_coefficient_calcuatior(logits: torch.Tensor, targets: torch.Tensor, threshold: float = 0.5):\n",
        "  if threshold is not None:\n",
        "    preds = torch.where(torch.sigmoid(logits) > threshold, 1, 0).float()\n",
        "\n",
        "    preds = preds.view(-1)\n",
        "    targets = targets.view(-1)\n",
        "\n",
        "    intersection = torch.sum(preds * targets)\n",
        "    union = torch.sum(preds) + torch.sum(targets)\n",
        "\n",
        "    dice_score = (2 * intersection + 1e-8) / (union + 1e-8)\n",
        "\n",
        "  else:\n",
        "    preds = torch.sigmoid(logits)\n",
        "\n",
        "    preds = preds.view(-1)\n",
        "    targets = targets.view(-1)\n",
        "\n",
        "    intersection = torch.sum(preds * targets)\n",
        "    union = torch.sum(preds) + torch.sum(targets)\n",
        "\n",
        "    dice_score = (2 * intersection + 1e-8) / (union + 1e-8)\n",
        "\n",
        "  return dice_score"
      ],
      "metadata": {
        "id": "EQ2Al4w1gAtx"
      },
      "execution_count": null,
      "outputs": []
    },
    {
      "cell_type": "code",
      "source": [
        "BCE = nn.BCEWithLogitsLoss() #we are defining it here so when we do not need to define it for every batch when calculating loss"
      ],
      "metadata": {
        "id": "zJRmmTeR0Cct"
      },
      "execution_count": null,
      "outputs": []
    },
    {
      "cell_type": "code",
      "source": [
        "def UNet_Loss(logits: torch.Tensor, targets: torch.Tensor):\n",
        "  return BCE(logits, targets) + (1 - dice_coefficient_calcuatior(logits, targets, threshold=None))"
      ],
      "metadata": {
        "id": "4NiNfznlxWsT"
      },
      "execution_count": null,
      "outputs": []
    },
    {
      "cell_type": "code",
      "source": [
        "class Swish(nn.Module):\n",
        "  def forward(self, X):\n",
        "    return X * torch.sigmoid(X)"
      ],
      "metadata": {
        "id": "7fAccfCp7iZl"
      },
      "execution_count": null,
      "outputs": []
    },
    {
      "cell_type": "code",
      "source": [
        "class DoubleConv(nn.Module):\n",
        "  def __init__(self, in_channels, out_channels):\n",
        "    super().__init__()\n",
        "    self.DoubleConv = nn.Sequential(\n",
        "        nn.Conv2d(in_channels,\n",
        "                  out_channels,\n",
        "                  kernel_size=3,\n",
        "                  stride=1,\n",
        "                  padding=1,\n",
        "                  bias=False),\n",
        "\n",
        "        nn.BatchNorm2d(out_channels),\n",
        "\n",
        "        Swish(), # Activation function\n",
        "\n",
        "        nn.Conv2d(out_channels,\n",
        "                  out_channels,\n",
        "                  kernel_size=3,\n",
        "                  stride=1,\n",
        "                  padding=1,\n",
        "                  bias=False),\n",
        "\n",
        "        nn.BatchNorm2d(out_channels),\n",
        "\n",
        "        Swish()\n",
        "    )\n",
        "\n",
        "  def forward(self, X):\n",
        "    return self.DoubleConv(X)"
      ],
      "metadata": {
        "id": "EBaV8buXyzT7"
      },
      "execution_count": null,
      "outputs": []
    },
    {
      "cell_type": "code",
      "source": [
        "class UNet(nn.Module):\n",
        "  def __init__(self, in_channels=1, num_classes=1, model_channels=[64, 128, 256, 512, 1024]):\n",
        "    super().__init__()\n",
        "\n",
        "    self.in_channels = in_channels\n",
        "    self.model_channels = model_channels\n",
        "\n",
        "    self.ups = nn.ModuleList()\n",
        "    self.downs = nn.ModuleList()\n",
        "\n",
        "    self.max_pool = nn.MaxPool2d(kernel_size=2,\n",
        "                                 stride=2)\n",
        "\n",
        "    for n_channels in model_channels:\n",
        "      self.downs.append(\n",
        "          DoubleConv(n_channels//2, n_channels) if n_channels != 64 else DoubleConv(in_channels, n_channels)\n",
        "      )\n",
        "\n",
        "      if n_channels != model_channels[4]:\n",
        "        self.downs.append(\n",
        "            self.max_pool\n",
        "        )\n",
        "      if n_channels != model_channels[0]:\n",
        "        self.ups.append(\n",
        "            DoubleConv(n_channels, n_channels//2)\n",
        "        )\n",
        "\n",
        "      if n_channels != model_channels[0]:\n",
        "        self.ups.append(\n",
        "            nn.ConvTranspose2d(n_channels,\n",
        "                              n_channels//2,\n",
        "                              kernel_size=2,\n",
        "                              stride=2)\n",
        "            )\n",
        "\n",
        "    self.final_conv = nn.Conv2d(in_channels=model_channels[0],\n",
        "                                out_channels=num_classes,\n",
        "                                kernel_size=1,\n",
        "                                stride=1,\n",
        "                                padding=0)\n",
        "\n",
        "  def forward(self, X):\n",
        "    out = X\n",
        "    connections = []\n",
        "    for i, part in enumerate(self.downs):\n",
        "      out = part(out)\n",
        "      if i % 2 == 0 and i < len(self.downs) - 1:\n",
        "        connections.append(out)\n",
        "\n",
        "    k = len(connections) - 1\n",
        "\n",
        "    for i, part in enumerate(reversed(self.ups)):\n",
        "      if i % 2 == 0:\n",
        "        out = part(out)\n",
        "        out = torch.cat((out, connections[k]), dim=1)\n",
        "        k-=1\n",
        "      else:\n",
        "        out = part(out)\n",
        "\n",
        "    out = self.final_conv(out)\n",
        "\n",
        "    return out"
      ],
      "metadata": {
        "id": "EeLoml1FyocF"
      },
      "execution_count": null,
      "outputs": []
    },
    {
      "cell_type": "code",
      "source": [
        "train_transform = torchvision.transforms.Compose([\n",
        "    TT.Resize((256, 256)),\n",
        "    TT.RandomInvert(p=0.3),\n",
        "    TT.ColorJitter(brightness=0.4, contrast=0.2),\n",
        "    TT.ToTensor(),\n",
        "    TT.Normalize(mean=(0.5,),\n",
        "                std=(0.5,))\n",
        "])\n",
        "\n",
        "test_transform = torchvision.transforms.Compose([\n",
        "    TT.Resize((256, 256)),\n",
        "    TT.ToTensor(),\n",
        "    TT.Normalize(mean=(0.5,),\n",
        "                std=(0.5,))\n",
        "])"
      ],
      "metadata": {
        "id": "w8MXECmgbNPy"
      },
      "execution_count": null,
      "outputs": []
    },
    {
      "cell_type": "code",
      "source": [
        "class BrainTumorDataset(Dataset):\n",
        "  def __init__(self, imgs_path, masks_path, transform_mode):\n",
        "    self.imgs_path = imgs_path\n",
        "    self.masks_path = masks_path\n",
        "    self.transform_mode = transform_mode\n",
        "\n",
        "    self.image_files = sorted(os.listdir(imgs_path))\n",
        "    self.mask_files = sorted(os.listdir(masks_path))\n",
        "\n",
        "  def __len__(self):\n",
        "    return len(self.image_files)\n",
        "\n",
        "  def __getitem__(self, idx):\n",
        "    img_path, mask_path = os.path.join(self.imgs_path, self.image_files[idx]), os.path.join(self.masks_path, self.mask_files[idx])\n",
        "\n",
        "    image = Image.open(img_path)\n",
        "    label = Image.open(mask_path)\n",
        "\n",
        "    image = image.convert(\"L\")\n",
        "\n",
        "    if self.transform_mode.upper() == 'TRAIN':\n",
        "      image = train_transform(image)\n",
        "    elif self.transform_mode.upper() == 'TEST':\n",
        "      image = test_transform(image)\n",
        "    else:\n",
        "      raise RuntimeError(\"Please specify the transform_mode as either 'train' or 'test'\")\n",
        "\n",
        "    to_tensor = TT.Compose([TT.Resize((256, 256), interpolation=TT.InterpolationMode.NEAREST), TT.ToTensor()])\n",
        "    label = to_tensor(label)\n",
        "\n",
        "    return image, label"
      ],
      "metadata": {
        "id": "doeBaHz-_IMP"
      },
      "execution_count": null,
      "outputs": []
    },
    {
      "cell_type": "code",
      "source": [
        "train_img_path = '/content/brisc2025/brisc2025/segmentation_task/train/images'\n",
        "train_mask_path = '/content/brisc2025/brisc2025/segmentation_task/train/masks'\n",
        "\n",
        "test_img_path = '/content/brisc2025/brisc2025/segmentation_task/test/images'\n",
        "test_mask_path = '/content/brisc2025/brisc2025/segmentation_task/test/masks'"
      ],
      "metadata": {
        "id": "iq1CrJY9Cpj0"
      },
      "execution_count": null,
      "outputs": []
    },
    {
      "cell_type": "code",
      "source": [
        "train_ds = BrainTumorDataset(train_img_path, train_mask_path, 'train')\n",
        "test_ds = BrainTumorDataset(test_img_path, test_mask_path, 'test')"
      ],
      "metadata": {
        "id": "UPxbGI_fxG9I"
      },
      "execution_count": null,
      "outputs": []
    },
    {
      "cell_type": "code",
      "source": [
        "train_dl = DataLoader(train_ds,\n",
        "                      batch_size=16,\n",
        "                      shuffle=True,\n",
        "                      drop_last=True,\n",
        "                      num_workers=2,\n",
        "                      pin_memory=True)\n",
        "\n",
        "test_dl = DataLoader(test_ds,\n",
        "                     batch_size=16,\n",
        "                     shuffle=False,\n",
        "                     drop_last=False,\n",
        "                     num_workers=2,\n",
        "                     pin_memory=True)"
      ],
      "metadata": {
        "id": "-3oPUyfFeVop"
      },
      "execution_count": null,
      "outputs": []
    },
    {
      "cell_type": "code",
      "source": [
        "model = UNet().to(device)"
      ],
      "metadata": {
        "id": "USO-bI1cmsSy"
      },
      "execution_count": null,
      "outputs": []
    },
    {
      "cell_type": "code",
      "source": [
        "optimizer = torch.optim.AdamW(model.parameters(), lr=1e-4, weight_decay=1e-4)\n",
        "lr_scheduler = torch.optim.lr_scheduler.StepLR(optimizer=optimizer, step_size=8, gamma=0.5)"
      ],
      "metadata": {
        "id": "ExfLHBIzmxYc"
      },
      "execution_count": null,
      "outputs": []
    },
    {
      "cell_type": "code",
      "source": [
        "SAVE_MODEL = False\n",
        "LOAD_MODEL = False\n",
        "\n",
        "assert not(SAVE_MODEL == True and LOAD_MODEL == True), \"'SAVE_MODEL' and 'LOAD_MODEL' cannot be equal to 'True' at the same time\"\n",
        "assert isinstance(SAVE_MODEL, bool) and isinstance(LOAD_MODEL, bool), \"'SAVE_MODEL' and 'LOAD_MODEL' must be booleans\""
      ],
      "metadata": {
        "id": "wuOnBz7JQrKg"
      },
      "execution_count": 15,
      "outputs": []
    },
    {
      "cell_type": "code",
      "source": [
        "if not LOAD_MODEL:\n",
        "  EPOCHS = 64\n",
        "\n",
        "  best_dice_score = -1.0\n",
        "\n",
        "  for epoch in tqdm(range(EPOCHS)):\n",
        "    losses = []\n",
        "    dice_scores = []\n",
        "\n",
        "    model.train()\n",
        "    for n_batch, (X ,y) in enumerate(train_dl):\n",
        "      X, y = X.to(device), y.to(device)\n",
        "\n",
        "      preds = model(X)\n",
        "      loss = UNet_Loss(preds, y)\n",
        "\n",
        "      with torch.no_grad():\n",
        "        dice_score = dice_coefficient_calcuatior(preds, y, threshold=0.5)\n",
        "\n",
        "      losses.append(loss.item())\n",
        "      dice_scores.append(dice_score.item())\n",
        "\n",
        "      optimizer.zero_grad()\n",
        "      loss.backward()\n",
        "      optimizer.step()\n",
        "\n",
        "    lr_scheduler.step()\n",
        "\n",
        "\n",
        "    avg_dice_score = sum(dice_scores) / len(dice_scores)\n",
        "    avg_loss = sum(losses) / len(losses)\n",
        "    print('====================')\n",
        "    print(f\"Epoch: {epoch + 1}\")\n",
        "    print(f\"Dice Score: {avg_dice_score:.2f} | Loss: {avg_loss:.4f}\")\n",
        "\n",
        "    ###################################################################\n",
        "    if SAVE_MODEL:\n",
        "      checkpoint = {\n",
        "        'epoch': epoch,\n",
        "        'model_state_dict': model.state_dict(),\n",
        "        'optimizer_state_dict': optimizer.state_dict(),\n",
        "        'lr_scheduler_state_dict': lr_scheduler.state_dict() if lr_scheduler else None,\n",
        "        'loss': avg_loss,\n",
        "        'dice_score': avg_dice_score\n",
        "      }\n",
        "\n",
        "      if avg_dice_score > best_dice_score:\n",
        "        best_dice_score = avg_dice_score\n",
        "        torch.save(checkpoint, 'checkpoint.pth')\n",
        "\n",
        "else:\n",
        "  assert os.path.exists('checkpoint.pth'), \"Please upload your the config as 'checkpoint.pth'\"\n",
        "  checkpoint = torch.load('checkpoint.pth', map_location=device, weights_only=False)\n",
        "\n",
        "  model.load_state_dict(checkpoint['model_state_dict'])\n",
        "  optimizer.load_state_dict(checkpoint['optimizer_state_dict'])"
      ],
      "metadata": {
        "id": "pusy25s6feQI",
        "collapsed": true
      },
      "execution_count": null,
      "outputs": []
    },
    {
      "cell_type": "code",
      "source": [
        "random_image_path = '/content/brisc2025/brisc2025/segmentation_task/train/images/brisc2025_train_00024_gl_ax_t1.jpg'\n",
        "random_image_mask_path = '/content/brisc2025/brisc2025/segmentation_task/train/masks/brisc2025_train_00024_gl_ax_t1.png'\n",
        "\n",
        "random_image = Image.open(random_image_path)\n",
        "random_mask = Image.open(random_image_mask_path)\n",
        "\n",
        "random_image = random_image.convert('L')\n",
        "random_mask = random_mask.convert('L')\n",
        "\n",
        "random_image = random_image.resize([256, 256])\n",
        "random_mask = random_mask.resize([256, 256], Image.Resampling.NEAREST)\n",
        "\n",
        "to_tensor = TT.Compose([TT.ToTensor()])\n",
        "to_tensor_and_norm = TT.Compose([TT.ToTensor(), TT.Normalize(mean=(0.5,), std=(0.5,))])\n",
        "\n",
        "X = to_tensor_and_norm(random_image).to(device)\n",
        "y = to_tensor(random_mask).to(device)\n",
        "\n",
        "model.eval()\n",
        "with torch.no_grad():\n",
        "  pred = model(X.unsqueeze(dim=0))\n",
        "pred = pred.squeeze(dim=0)\n",
        "\n",
        "train_dice_score = dice_coefficient_calcuatior(pred, y)\n",
        "\n",
        "pred = torch.where(torch.sigmoid(pred) > 0.5, 1, 0)"
      ],
      "metadata": {
        "id": "LAVfFS1iFTx8"
      },
      "execution_count": null,
      "outputs": []
    },
    {
      "cell_type": "code",
      "source": [
        "def denorm(img):\n",
        "  return img * 0.5 + 0.5"
      ],
      "metadata": {
        "id": "gXMo4dgCJ3Rg"
      },
      "execution_count": null,
      "outputs": []
    },
    {
      "cell_type": "code",
      "source": [
        "img_to_show = denorm(X)[0].cpu()\n",
        "mask_to_show = y[0].cpu()\n",
        "pred_to_show = pred[0].cpu()\n",
        "\n",
        "plt.figure(figsize=(12, 4))\n",
        "\n",
        "plt.subplot(1, 3, 1)\n",
        "plt.imshow(img_to_show, cmap='gray')\n",
        "plt.title('Brain Scan')\n",
        "plt.axis('off')\n",
        "\n",
        "plt.subplot(1, 3, 2)\n",
        "plt.imshow(mask_to_show, cmap='gray')\n",
        "plt.title('True Brain Tumor Location')\n",
        "plt.axis('off')\n",
        "\n",
        "plt.subplot(1, 3, 3)\n",
        "plt.imshow(pred_to_show, cmap='gray')\n",
        "plt.title('Predicted Brain Tumor Location')\n",
        "plt.axis('off')\n",
        "\n",
        "plt.show()"
      ],
      "metadata": {
        "id": "Z9Fi_Q3tJKu0"
      },
      "execution_count": null,
      "outputs": []
    },
    {
      "cell_type": "code",
      "source": [
        "plt.figure(figsize=(8, 4))\n",
        "\n",
        "plt.subplot(1, 2, 1)\n",
        "plt.imshow(img_to_show, cmap='gray')\n",
        "plt.imshow(mask_to_show, cmap='Reds', alpha=0.2)\n",
        "plt.title('True Brain Tumor Location')\n",
        "plt.axis('off')\n",
        "\n",
        "plt.subplot(1, 2, 2)\n",
        "plt.imshow(img_to_show, cmap='gray')\n",
        "plt.imshow(pred_to_show, cmap='Reds', alpha=0.2)\n",
        "plt.title('Predicted Brain Tumor Location')\n",
        "plt.axis('off')\n",
        "\n",
        "plt.tight_layout()\n",
        "\n",
        "plt.figtext(0.67, -0.01, f\"Dice Score: {train_dice_score:.2f}\", fontsize=10)\n",
        "plt.show()"
      ],
      "metadata": {
        "id": "oFXXE35PKcAV"
      },
      "execution_count": null,
      "outputs": []
    },
    {
      "cell_type": "code",
      "source": [
        "model.eval()\n",
        "\n",
        "test_dice_scores = []\n",
        "test_losses = []\n",
        "\n",
        "with torch.no_grad():\n",
        "  for n_batch, (X, y) in enumerate(test_dl):\n",
        "    X, y = X.to(device), y.to(device)\n",
        "\n",
        "    preds = model(X)\n",
        "\n",
        "    loss = UNet_Loss(preds, y)\n",
        "\n",
        "    dice_score = dice_coefficient_calcuatior(preds, y)\n",
        "\n",
        "    test_dice_scores.append(dice_score.item())\n",
        "    test_losses.append(loss.item())\n",
        "\n",
        "print('##################\\n#  Test Results  #\\n##################\\n')\n",
        "print(f'Dice Score: {np.mean(test_dice_scores):.2f} | Loss: {np.mean(test_losses):.4f}')"
      ],
      "metadata": {
        "id": "WzU7kBaWLnLj"
      },
      "execution_count": null,
      "outputs": []
    },
    {
      "cell_type": "code",
      "source": [
        "random_image_path = '/content/brisc2025/brisc2025/segmentation_task/test/images/brisc2025_test_00024_gl_ax_t1.jpg'\n",
        "random_image_mask_path = '/content/brisc2025/brisc2025/segmentation_task/test/masks/brisc2025_test_00024_gl_ax_t1.png'\n",
        "\n",
        "image = Image.open(random_image_path)\n",
        "mask = Image.open(random_image_mask_path)\n",
        "\n",
        "image = image.convert('L').resize([256, 256])\n",
        "mask = mask.convert('L').resize([256, 256])\n",
        "\n",
        "to_tensor_and_norm = TT.Compose([TT.ToTensor(), TT.Normalize(mean=(0.5,), std=(0.5,))])\n",
        "to_tensor = TT.Compose([TT.ToTensor()])\n",
        "\n",
        "image = to_tensor_and_norm(image)\n",
        "mask = to_tensor(mask)\n",
        "\n",
        "X = image.to(device)\n",
        "y = mask.to(device)\n",
        "\n",
        "pred = model(X.unsqueeze(dim=0))\n",
        "\n",
        "test_dice_score = dice_coefficient_calcuatior(pred, y)\n",
        "\n",
        "pred = torch.where(torch.sigmoid(pred) > 0.5, 1, 0)"
      ],
      "metadata": {
        "id": "NJn5_lXIevxM"
      },
      "execution_count": null,
      "outputs": []
    },
    {
      "cell_type": "code",
      "source": [
        "image_to_show = denorm(image)[0].cpu().squeeze()\n",
        "mask_to_show = mask[0].cpu().squeeze()\n",
        "pred_to_show = pred[0].cpu().squeeze()\n",
        "\n",
        "plt.figure(figsize=(12, 4))\n",
        "\n",
        "plt.subplot(1, 3, 1)\n",
        "plt.imshow(image_to_show, cmap='gray')\n",
        "plt.title('Brain Scan')\n",
        "plt.axis('off')\n",
        "\n",
        "plt.subplot(1, 3, 2)\n",
        "plt.imshow(mask_to_show, cmap='gray')\n",
        "plt.title('True Brain Tumor Location')\n",
        "plt.axis('off')\n",
        "\n",
        "plt.subplot(1, 3, 3)\n",
        "plt.imshow(pred_to_show, cmap='gray')\n",
        "plt.title('Predicted Brain Tumor Location')\n",
        "plt.axis('off')\n",
        "\n",
        "plt.show()"
      ],
      "metadata": {
        "id": "_GiYHr88jm-X"
      },
      "execution_count": null,
      "outputs": []
    },
    {
      "cell_type": "code",
      "source": [
        "plt.figure(figsize=(8, 4))\n",
        "\n",
        "plt.subplot(1, 2, 1)\n",
        "plt.imshow(image_to_show, cmap='grey')\n",
        "plt.imshow(mask_to_show, cmap='Reds', alpha=0.2)\n",
        "plt.title('True Brain Tumor Location')\n",
        "plt.axis('off')\n",
        "\n",
        "plt.subplot(1, 2, 2)\n",
        "plt.imshow(image_to_show, cmap='grey')\n",
        "plt.imshow(pred_to_show, cmap='Reds', alpha=0.2)\n",
        "plt.title('Predicted Brain Tumor Location')\n",
        "plt.axis('off')\n",
        "\n",
        "plt.tight_layout()\n",
        "\n",
        "plt.figtext(0.67, -0.01, f\"Dice Score: {test_dice_score:.2f}\", fontsize=10)\n",
        "\n",
        "plt.show()"
      ],
      "metadata": {
        "id": "8ERII1Wij46M"
      },
      "execution_count": null,
      "outputs": []
    }
  ]
}
